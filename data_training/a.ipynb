from joblib import dump, load
import json
import os, sys
import firebase_admin
from firebase_admin import firestore
from firebase_admin import credentials


cred = credentials.Certificate(r'BugBusters\data_training\bugbusters-c6a2c-firebase-adminsdk-5sm2b-50a8ebf152.json')
firebase_admin.initialize_app(cred)


#print current working directory
print(os.getcwd())



#load the model
model_incoming_bikes = load(r'BugBusters\data_training\random_forest_model_incoming.joblib')
model_outgoing_bikes = load(r'BugBusters\data_training\random_forest_model_outgoing.joblib')



#load json files
with open('id_to_station.json', 'r') as fp:
    station_to_id = json.load(fp)

data_arr = []
for key in station_to_id.keys():
    for month in range(0,12):
        for day_of_week in range(0,7):
            for hour in range(0,24):
                data = {"station_id": }


