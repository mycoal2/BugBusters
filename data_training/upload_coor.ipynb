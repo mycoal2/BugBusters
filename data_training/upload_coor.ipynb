{
 "cells": [
  {
   "cell_type": "code",
   "execution_count": 1,
   "metadata": {},
   "outputs": [],
   "source": [
    "from joblib import dump, load\n",
    "import json\n",
    "import os, sys\n",
    "import firebase_admin\n",
    "from firebase_admin import firestore\n",
    "from firebase_admin import credentials\n",
    "import tqdm\n",
    "import pandas as pd\n",
    "\n",
    "\n"
   ]
  },
  {
   "cell_type": "code",
   "execution_count": 2,
   "metadata": {},
   "outputs": [
    {
     "data": {
      "text/plain": [
       "<firebase_admin.App at 0x14ffded6f50>"
      ]
     },
     "execution_count": 2,
     "metadata": {},
     "output_type": "execute_result"
    }
   ],
   "source": [
    "cred = credentials.Certificate(r'bugbusters-c6a2c-firebase-adminsdk-5sm2b-50a8ebf152.json')\n",
    "firebase_admin.initialize_app(cred)\n"
   ]
  },
  {
   "cell_type": "code",
   "execution_count": 3,
   "metadata": {},
   "outputs": [],
   "source": [
    "df = pd.read_pickle('station_coords.pkl')\n"
   ]
  },
  {
   "cell_type": "code",
   "execution_count": 4,
   "metadata": {},
   "outputs": [
    {
     "data": {
      "text/plain": [
       "938"
      ]
     },
     "execution_count": 4,
     "metadata": {},
     "output_type": "execute_result"
    }
   ],
   "source": [
    "#get all elements of df and put them in a list\n",
    "df_list = df.values.tolist()\n",
    "# df_list\n",
    "len(df_list)\n"
   ]
  },
  {
   "cell_type": "code",
   "execution_count": 6,
   "metadata": {},
   "outputs": [],
   "source": [
    "\n",
    "#load json files\n",
    "with open('station_to_id.json', 'r') as fp:\n",
    "    station_to_id = json.load(fp)\n",
    "i = 0\n",
    "model_incoming_bikes_arr = []\n",
    "for key in (station_to_id.keys()):\n",
    "    # print (\"Progress: \", i, \"/\", len(station_to_id.keys()))\n",
    "    try:\n",
    "        model_incoming_bikes_arr.append ({\"station_id\": station_to_id[df_list[i][0]], \"station_name\": df_list[i][0], \"lat\": df_list[i][1], \"lon\": df_list[i][2]})\n",
    "    except:\n",
    "        pass\n",
    "    i += 1\n",
    "\n",
    "# print (model_incoming_bikes_arr)\n",
    "    \n"
   ]
  },
  {
   "cell_type": "code",
   "execution_count": 7,
   "metadata": {},
   "outputs": [
    {
     "data": {
      "text/plain": [
       "910"
      ]
     },
     "execution_count": 7,
     "metadata": {},
     "output_type": "execute_result"
    }
   ],
   "source": [
    "len(model_incoming_bikes_arr)"
   ]
  },
  {
   "cell_type": "code",
   "execution_count": 8,
   "metadata": {},
   "outputs": [],
   "source": [
    "db = firestore.client()\n",
    "\n",
    "\n",
    "for element in model_incoming_bikes_arr:\n",
    "    db.collection(\"STATION_REF\").document(str(element['station_id'])).set(element)\n"
   ]
  }
 ],
 "metadata": {
  "kernelspec": {
   "display_name": "Python 3",
   "language": "python",
   "name": "python3"
  },
  "language_info": {
   "codemirror_mode": {
    "name": "ipython",
    "version": 3
   },
   "file_extension": ".py",
   "mimetype": "text/x-python",
   "name": "python",
   "nbconvert_exporter": "python",
   "pygments_lexer": "ipython3",
   "version": "3.11.5"
  }
 },
 "nbformat": 4,
 "nbformat_minor": 2
}
