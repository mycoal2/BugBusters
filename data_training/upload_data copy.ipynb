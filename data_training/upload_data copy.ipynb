{
 "cells": [
  {
   "cell_type": "code",
   "execution_count": 1,
   "metadata": {},
   "outputs": [],
   "source": [
    "from joblib import dump, load\n",
    "import json\n",
    "import os, sys\n",
    "import firebase_admin\n",
    "from firebase_admin import firestore\n",
    "from firebase_admin import credentials\n",
    "import tqdm\n",
    "import pandas as pd\n",
    "\n"
   ]
  },
  {
   "cell_type": "code",
   "execution_count": 2,
   "metadata": {},
   "outputs": [
    {
     "data": {
      "text/plain": [
       "<firebase_admin.App at 0x1af5994afd0>"
      ]
     },
     "execution_count": 2,
     "metadata": {},
     "output_type": "execute_result"
    }
   ],
   "source": [
    "cred = credentials.Certificate(r'bugbusters-c6a2c-firebase-adminsdk-5sm2b-50a8ebf152.json')\n",
    "firebase_admin.initialize_app(cred)\n"
   ]
  },
  {
   "cell_type": "code",
   "execution_count": 3,
   "metadata": {},
   "outputs": [
    {
     "name": "stdout",
     "output_type": "stream",
     "text": [
      "c:\\Users\\ramir\\Documents\\Coding projects\\Hackathon\\BugBusters\\data_training\n"
     ]
    }
   ],
   "source": [
    "\n",
    "\n",
    "#print current working directory\n",
    "print(os.getcwd())\n",
    "\n",
    "\n",
    "\n",
    "#load the model\n",
    "model_incoming_bikes = load(r'random_forest_model_incoming.joblib')\n",
    "model_outgoing_bikes = load(r'random_forest_model_outgoing.joblib')\n",
    "\n"
   ]
  },
  {
   "cell_type": "code",
   "execution_count": null,
   "metadata": {},
   "outputs": [],
   "source": [
    "df = pd.read"
   ]
  },
  {
   "cell_type": "code",
   "execution_count": null,
   "metadata": {},
   "outputs": [],
   "source": [
    "\n",
    "\n",
    "#load json files\n",
    "with open('id_to_station.json', 'r') as fp:\n",
    "    station_to_id = json.load(fp)\n",
    "\n",
    "\n",
    "#add to a list\n",
    "model_incoming_bikes_arr = []\n",
    "i = 0 \n",
    "for key in (station_to_id.keys()):\n",
    "    print (\"Progress: \", i, \"/\", len(station_to_id.keys()))\n",
    "    for month in range(0,12):\n",
    "        for day_of_week in range(0,7):\n",
    "            for hour in range(0,24):\n",
    "                model_incoming_bikes_arr.append ({\"station_id\": key, \"station_name\": station_to_id[key],\"month\": month, \"day_of_week\": day_of_week, \"hour\": hour, \"prediction\": model_incoming_bikes.predict([[key, month, hour, day_of_week]])})\n",
    "\n",
    "print(model_incoming_bikes)\n"
   ]
  },
  {
   "cell_type": "code",
   "execution_count": null,
   "metadata": {},
   "outputs": [],
   "source": [
    "db = firestore.client()\n",
    "\n",
    "for data in model_incoming_bikes_arr:\n",
    "    db.collection(\"BIKES_IN\").document(data['station_id']).set(data)"
   ]
  },
  {
   "cell_type": "code",
   "execution_count": null,
   "metadata": {},
   "outputs": [],
   "source": [
    "\n",
    "#add to a list\n",
    "model_outgoing_bikes_arr = []\n",
    "i = 0 \n",
    "for key in (station_to_id.keys()):\n",
    "    print (\"Progress: \", i, \"/\", len(station_to_id.keys()))\n",
    "    for month in range(0,12):\n",
    "        for day_of_week in range(0,7):\n",
    "            for hour in range(0,24):\n",
    "                model_outgoing_bikes_arr.append ({\"station_id\": key, \"station_name\": station_to_id[key],\"month\": month, \"day_of_week\": day_of_week, \"hour\": hour, \"prediction\": model_outgoing_bikes.predict([[key, month, hour, day_of_week]])})\n",
    "\n",
    "print(model_outgoing_bikes_arr)\n"
   ]
  },
  {
   "cell_type": "code",
   "execution_count": null,
   "metadata": {},
   "outputs": [],
   "source": [
    "db = firestore.client()\n",
    "\n",
    "for data in model_outgoing_bikes_arr:\n",
    "    db.collection(\"BIKES_OUT\").document(data['station_id']).set(data)"
   ]
  }
 ],
 "metadata": {
  "kernelspec": {
   "display_name": "Python 3",
   "language": "python",
   "name": "python3"
  },
  "language_info": {
   "codemirror_mode": {
    "name": "ipython",
    "version": 3
   },
   "file_extension": ".py",
   "mimetype": "text/x-python",
   "name": "python",
   "nbconvert_exporter": "python",
   "pygments_lexer": "ipython3",
   "version": "3.11.5"
  }
 },
 "nbformat": 4,
 "nbformat_minor": 2
}
